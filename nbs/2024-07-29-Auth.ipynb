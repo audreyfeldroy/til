{
 "cells": [
  {
   "cell_type": "markdown",
   "metadata": {},
   "source": [
    "# Auth in FastHTML\n",
    "\n",
    "Basic auth:\n",
    "\n",
    "* https://github.com/AnswerDotAI/fasthtml/blob/main/fasthtml/authmw.py\n",
    "* https://github.com/AnswerDotAI/fasthtml/blob/main/nbs/api/00_core.ipynb has some auth tests\n",
    "\n",
    "Oauth:\n",
    "\n",
    "* https://github.com/AnswerDotAI/fasthtml/blob/main/nbs/incomplete/oauth.ipynb\n"
   ]
  },
  {
   "cell_type": "code",
   "execution_count": 17,
   "metadata": {},
   "outputs": [],
   "source": [
    "from fasthtml.authmw import user_pwd_auth\n",
    "from fasthtml.common import *\n",
    "from fastcore.test import *\n",
    "from fastcore.utils import *\n",
    "from fastcore.xml import *\n",
    "from fasthtml.xtend import *\n",
    "from starlette.testclient import TestClient"
   ]
  },
  {
   "cell_type": "code",
   "execution_count": 18,
   "metadata": {},
   "outputs": [],
   "source": [
    "def get_cli(app): return app,TestClient(app),app.route"
   ]
  },
  {
   "cell_type": "markdown",
   "metadata": {},
   "source": [
    "From https://github.com/AnswerDotAI/fasthtml/blob/main/nbs/api/00_core.ipynb"
   ]
  },
  {
   "cell_type": "code",
   "execution_count": 19,
   "metadata": {},
   "outputs": [],
   "source": [
    "auth = user_pwd_auth(testuser='spycraft')\n",
    "app,cli,rt = get_cli(FastHTML(middleware=[auth]))\n",
    "\n",
    "@rt(\"/locked\")\n",
    "def get(auth): return 'Hello, ' + auth\n",
    "\n",
    "test_eq(cli.get('/locked').text, 'not authenticated')\n",
    "test_eq(cli.get('/locked', auth=(\"testuser\",\"spycraft\")).text, 'Hello, testuser')"
   ]
  },
  {
   "cell_type": "markdown",
   "metadata": {},
   "source": [
    "Passing a dict into `lookup`:"
   ]
  },
  {
   "cell_type": "code",
   "execution_count": 20,
   "metadata": {},
   "outputs": [],
   "source": [
    "auth = user_pwd_auth(lookup={'testuser':'spycraft', 'testuser2':'spycraft2'})\n",
    "app,cli,rt = get_cli(FastHTML(middleware=[auth]))\n",
    "\n",
    "@rt(\"/locked\")\n",
    "def get(auth): return 'Hello, ' + auth\n",
    "\n",
    "test_eq(cli.get('/locked').text, 'not authenticated')\n",
    "test_eq(cli.get('/locked', auth=(\"testuser\",\"spycraft\")).text, 'Hello, testuser')\n",
    "test_eq(cli.get('/locked', auth=(\"testuser2\",\"spycraft2\")).text, 'Hello, testuser2')"
   ]
  },
  {
   "cell_type": "markdown",
   "metadata": {},
   "source": [
    "Passing a callable into `lookup`:"
   ]
  },
  {
   "cell_type": "code",
   "execution_count": 22,
   "metadata": {},
   "outputs": [],
   "source": [
    "def user_lookup(u, p):\n",
    "    users = {\n",
    "        'testuser': 'spycraft',\n",
    "        'testuser2': 'spycraft2',\n",
    "        'testuser3': 'spycraft3',\n",
    "    }\n",
    "    expected_p = users.get(u)\n",
    "    if expected_p is None: return None\n",
    "    return p == expected_p\n",
    "\n",
    "auth = user_pwd_auth(lookup=user_lookup)\n",
    "app, cli, rt = get_cli(FastHTML(middleware=[auth]))\n",
    "\n",
    "@rt(\"/locked\")\n",
    "def get(auth): return 'Hello, ' + auth\n",
    "\n",
    "test_eq(cli.get('/locked').text, 'not authenticated')\n",
    "test_eq(cli.get('/locked', auth=(\"testuser\",\"spycraft\")).text, 'Hello, testuser')\n",
    "test_eq(cli.get('/locked', auth=(\"testuser2\",\"spycraft2\")).text, 'Hello, testuser2')\n",
    "test_eq(cli.get('/locked', auth=(\"testuser3\",\"spycraft3\")).text, 'Hello, testuser3')"
   ]
  }
 ],
 "metadata": {
  "kernelspec": {
   "display_name": ".venv",
   "language": "python",
   "name": "python3"
  },
  "language_info": {
   "codemirror_mode": {
    "name": "ipython",
    "version": 3
   },
   "file_extension": ".py",
   "mimetype": "text/x-python",
   "name": "python",
   "nbconvert_exporter": "python",
   "pygments_lexer": "ipython3",
   "version": "3.12.4"
  }
 },
 "nbformat": 4,
 "nbformat_minor": 2
}

{
 "cells": [
  {
   "cell_type": "code",
   "execution_count": null,
   "metadata": {},
   "outputs": [],
   "source": [
    "#| hide\n",
    "from til.core import *"
   ]
  },
  {
   "cell_type": "markdown",
   "metadata": {},
   "source": [
    "# til\n",
    "\n",
    "> Today I Learned"
   ]
  },
  {
   "cell_type": "markdown",
   "metadata": {},
   "source": [
    "This file gets turned into the audreyfeldroy/til README and also the index of its documentation."
   ]
  },
  {
   "cell_type": "markdown",
   "metadata": {},
   "source": [
    "## Install and Run\n",
    "\n",
    "```sh\n",
    "git clone https://github.com/audreyfeldroy/til.git\n",
    "pip install -e .\n",
    "pip install -Uqq setuptools nbdev jupyter\n",
    "nbdev_install_hooks\n",
    "nbdev_preview\n",
    "```\n",
    "\n",
    "Then a browser window will open with the TILs.\n",
    "\n",
    "## Committing Cleanly\n",
    "\n",
    "Clean with `prep` before committing. Put this in your `.bashrc` or `.zshrc`:\n",
    "\n",
    "```sh\n",
    "# Nbdev alias to clean Jupyter notebooks before committing\n",
    "alias prep='nbdev_export && nbdev_clean && nbdev_trust'\n",
    "```"
   ]
  }
 ],
 "metadata": {
  "kernelspec": {
   "display_name": "python3",
   "language": "python",
   "name": "python3"
  }
 },
 "nbformat": 4,
 "nbformat_minor": 4
}

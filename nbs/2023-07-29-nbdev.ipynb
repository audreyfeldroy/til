{
 "cells": [
  {
   "cell_type": "markdown",
   "metadata": {},
   "source": [
    "# Setting Up a Blog With NbDev\n",
    "\n",
    "I feel like Jupyter notebooks would be really nice for blogging or publishing \"Today I Learned\" posts. I had heard about Fastpages before via Jeremy Howard's blog or YouTube videos, but seeing that it was deprecated in favor of nbdev, I decided to try nbdev.\n",
    "\n",
    "I followed the [End-to-End Walkthrough nbdev tutorial](https://nbdev.fast.ai/tutorials/tutorial.html)."
   ]
  },
  {
   "cell_type": "markdown",
   "metadata": {},
   "source": [
    "## Things I Learned\n",
    "\n",
    "### Best for Python Packages\n",
    "\n",
    "nbdev works best out-of-the-box for the use case where you want to create a Python package out of auto-exporting Jupyter notebooks.\n",
    "\n",
    "For regular blogging you have to experiment a bit to make that work. I'm still figuring that out.\n",
    "\n",
    "The nbdev docs point to Quarto which appears to be something like Jekyll. I believe it would be good to use nbdev with Quatro in order to publish Jupyter notebook-based blog posts, but I haven't tried that yet.\n",
    "\n",
    "### Make the Package and Repository Name the Same\n",
    "\n",
    "It's hard to configure the package name to be different from the repository name. I tried this in settings.ini:\n",
    "\n",
    "```\n",
    "lib_name = tilly\n",
    "```\n",
    "\n",
    "And I tried various combinations of running the notebooks to export a new package, but the package directory generated was always `til`."
   ]
  },
  {
   "cell_type": "markdown",
   "metadata": {},
   "source": []
  },
  {
   "cell_type": "code",
   "execution_count": null,
   "metadata": {},
   "outputs": [],
   "source": []
  }
 ],
 "metadata": {
  "language_info": {
   "name": "python"
  },
  "orig_nbformat": 4
 },
 "nbformat": 4,
 "nbformat_minor": 2
}

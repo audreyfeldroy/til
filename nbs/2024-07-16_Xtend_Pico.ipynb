{
 "cells": [
  {
   "cell_type": "markdown",
   "metadata": {},
   "source": [
    "# Understanding FastHTML xtend\n",
    "\n",
    "Current FastHTML Pico Card: https://github.com/AnswerDotAI/fasthtml/blob/main/fasthtml/xtend.py#L76"
   ]
  },
  {
   "cell_type": "code",
   "execution_count": null,
   "metadata": {},
   "outputs": [],
   "source": [
    "from fasthtml.common import *"
   ]
  },
  {
   "cell_type": "code",
   "execution_count": null,
   "metadata": {},
   "outputs": [
    {
     "data": {
      "text/plain": [
       "<function fasthtml.xtend.Card(*c, header=None, footer=None, target_id=None, id=None, cls=None, title=None, style=None, accesskey=None, contenteditable=None, dir=None, draggable=None, enterkeyhint=None, hidden=None, inert=None, inputmode=None, lang=None, popover=None, spellcheck=None, tabindex=None, translate=None, hx_get=None, hx_post=None, hx_put=None, hx_delete=None, hx_patch=None, hx_trigger=None, hx_target=None, hx_swap=None, hx_include=None, hx_select=None, hx_indicator=None, hx_push_url=None, hx_confirm=None, hx_disable=None, hx_replace_url=None, hx_on=None, **kwargs) -> fastcore.xml.FT>"
      ]
     },
     "execution_count": null,
     "metadata": {},
     "output_type": "execute_result"
    }
   ],
   "source": [
    "Card"
   ]
  },
  {
   "cell_type": "markdown",
   "metadata": {},
   "source": [
    "What interesting things can we find out about the Card function?"
   ]
  },
  {
   "cell_type": "code",
   "execution_count": null,
   "metadata": {},
   "outputs": [
    {
     "name": "stdout",
     "output_type": "stream",
     "text": [
      "Help on function Card in module fasthtml.xtend:\n",
      "\n",
      "Card(*c, header=None, footer=None, target_id=None, id=None, cls=None, title=None, style=None, accesskey=None, contenteditable=None, dir=None, draggable=None, enterkeyhint=None, hidden=None, inert=None, inputmode=None, lang=None, popover=None, spellcheck=None, tabindex=None, translate=None, hx_get=None, hx_post=None, hx_put=None, hx_delete=None, hx_patch=None, hx_trigger=None, hx_target=None, hx_swap=None, hx_include=None, hx_select=None, hx_indicator=None, hx_push_url=None, hx_confirm=None, hx_disable=None, hx_replace_url=None, hx_on=None, **kwargs) -> fastcore.xml.FT\n",
      "    A PicoCSS Card, implemented as an Article with optional Header and Footer\n",
      "\n"
     ]
    }
   ],
   "source": [
    "help(Card)"
   ]
  },
  {
   "cell_type": "code",
   "execution_count": null,
   "metadata": {},
   "outputs": [
    {
     "data": {
      "text/plain": [
       "['__annotations__',\n",
       " '__builtins__',\n",
       " '__call__',\n",
       " '__class__',\n",
       " '__closure__',\n",
       " '__code__',\n",
       " '__defaults__',\n",
       " '__delattr__',\n",
       " '__dict__',\n",
       " '__dir__',\n",
       " '__doc__',\n",
       " '__eq__',\n",
       " '__format__',\n",
       " '__ge__',\n",
       " '__get__',\n",
       " '__getattribute__',\n",
       " '__getstate__',\n",
       " '__globals__',\n",
       " '__gt__',\n",
       " '__hash__',\n",
       " '__init__',\n",
       " '__init_subclass__',\n",
       " '__kwdefaults__',\n",
       " '__le__',\n",
       " '__lt__',\n",
       " '__module__',\n",
       " '__name__',\n",
       " '__ne__',\n",
       " '__new__',\n",
       " '__qualname__',\n",
       " '__reduce__',\n",
       " '__reduce_ex__',\n",
       " '__repr__',\n",
       " '__setattr__',\n",
       " '__signature__',\n",
       " '__sizeof__',\n",
       " '__str__',\n",
       " '__subclasshook__',\n",
       " '__type_params__']"
      ]
     },
     "execution_count": null,
     "metadata": {},
     "output_type": "execute_result"
    }
   ],
   "source": [
    "dir(Card)"
   ]
  },
  {
   "cell_type": "code",
   "execution_count": null,
   "metadata": {},
   "outputs": [
    {
     "name": "stdout",
     "output_type": "stream",
     "text": [
      "@delegates(ft_hx, keep=True)\n",
      "def Card(*c, header=None, footer=None, **kwargs)->FT:\n",
      "    \"A PicoCSS Card, implemented as an Article with optional Header and Footer\"\n",
      "    if header: c = (Header(header),) + c\n",
      "    if footer: c += (Footer(footer),)\n",
      "    return Article(*c, **kwargs)\n",
      "\n"
     ]
    }
   ],
   "source": [
    "import inspect\n",
    "\n",
    "print(inspect.getsource(Card))"
   ]
  },
  {
   "cell_type": "markdown",
   "metadata": {},
   "source": [
    "@delegates(xt_hx, keep=True) means it can accept and pass along any arguments that the xt_hx function accepts.\n",
    "\n",
    "It's defined in https://github.com/fastai/fastcore/blob/005ffd986df737cfc46c7cb1eadec5d214d08da7/fastcore/meta.py#L109\n",
    "\n",
    "Not sure what xt_hx is, probably a function that does something with the XML tree and HTMX attributes.\n",
    "\n",
    "I'll run 02_xtend.ipynb to try and learn more."
   ]
  },
  {
   "cell_type": "code",
   "execution_count": null,
   "metadata": {},
   "outputs": [
    {
     "data": {
      "text/plain": [
       "functools.partial(<function ft_hx>, 'A')"
      ]
     },
     "execution_count": null,
     "metadata": {},
     "output_type": "execute_result"
    }
   ],
   "source": [
    "#|eval: false\n",
    "from functools import partial\n",
    "from fasthtml.components import ft_hx as xt_hx\n",
    "my_a = partial(xt_hx, \"A\")\n",
    "my_a"
   ]
  },
  {
   "cell_type": "code",
   "execution_count": null,
   "metadata": {},
   "outputs": [
    {
     "ename": "NameError",
     "evalue": "name 'my_a' is not defined",
     "output_type": "error",
     "traceback": [
      "\u001b[0;31m---------------------------------------------------------------------------\u001b[0m",
      "\u001b[0;31mNameError\u001b[0m                                 Traceback (most recent call last)",
      "Cell \u001b[0;32mIn[8], line 1\u001b[0m\n\u001b[0;32m----> 1\u001b[0m \u001b[43mmy_a\u001b[49m()\n",
      "\u001b[0;31mNameError\u001b[0m: name 'my_a' is not defined"
     ]
    }
   ],
   "source": [
    "my_a()"
   ]
  },
  {
   "cell_type": "code",
   "execution_count": null,
   "metadata": {},
   "outputs": [
    {
     "data": {
      "text/markdown": [
       "```xml\n",
       "<a>Hi</a>\n",
       "\n",
       "```"
      ],
      "text/plain": [
       "['a', ('Hi',), {}]"
      ]
     },
     "execution_count": null,
     "metadata": {},
     "output_type": "execute_result"
    }
   ],
   "source": [
    "my_a('Hi')"
   ]
  },
  {
   "cell_type": "code",
   "execution_count": null,
   "metadata": {},
   "outputs": [
    {
     "data": {
      "text/markdown": [
       "```xml\n",
       "<a class=\"linky\">Hi</a>\n",
       "\n",
       "```"
      ],
      "text/plain": [
       "['a', ('Hi',), {'class': 'linky'}]"
      ]
     },
     "execution_count": null,
     "metadata": {},
     "output_type": "execute_result"
    }
   ],
   "source": [
    "my_a(\"Hi\", cls='linky')"
   ]
  },
  {
   "cell_type": "code",
   "execution_count": null,
   "metadata": {},
   "outputs": [
    {
     "data": {
      "text/markdown": [
       "```xml\n",
       "<b>Hello</b>\n",
       "\n",
       "```"
      ],
      "text/plain": [
       "['b', ('Hello',), {}]"
      ]
     },
     "execution_count": null,
     "metadata": {},
     "output_type": "execute_result"
    }
   ],
   "source": [
    "my_b = partial(xt_hx, \"B\")\n",
    "my_b(\"Hello\")"
   ]
  },
  {
   "cell_type": "code",
   "execution_count": null,
   "metadata": {},
   "outputs": [
    {
     "data": {
      "text/markdown": [
       "```xml\n",
       "<c>Hee hee</c>\n",
       "\n",
       "```"
      ],
      "text/plain": [
       "['c', ('Hee hee',), {}]"
      ]
     },
     "execution_count": null,
     "metadata": {},
     "output_type": "execute_result"
    }
   ],
   "source": [
    "C = partial(xt_hx, \"C\")\n",
    "C(\"Hee hee\")"
   ]
  },
  {
   "cell_type": "code",
   "execution_count": null,
   "metadata": {},
   "outputs": [
    {
     "data": {
      "text/markdown": [
       "```xml\n",
       "<uma mood=\"happy\" id=\"UmaTheKid\" class=\"cute\">Hi mommy</uma>\n",
       "\n",
       "```"
      ],
      "text/plain": [
       "['uma', ('Hi mommy',), {'mood': 'happy', 'id': 'UmaTheKid', 'class': 'cute'}]"
      ]
     },
     "execution_count": null,
     "metadata": {},
     "output_type": "execute_result"
    }
   ],
   "source": [
    "Uma = partial(xt_hx, \"Uma\")\n",
    "Uma(\"Hi mommy\", cls='cute', mood='happy', id=\"UmaTheKid\")"
   ]
  },
  {
   "cell_type": "code",
   "execution_count": null,
   "metadata": {},
   "outputs": [
    {
     "name": "stdout",
     "output_type": "stream",
     "text": [
      "{'cls': 'mom', 'hx_trigger': 'mouseenter', 'hx_get': '/inbox'}\n"
     ]
    },
    {
     "data": {
      "text/markdown": [
       "```xml\n",
       "<mommy hx-trigger=\"mouseenter\" hx-get=\"/inbox\" class=\"mom\">Hi Uma</mommy>\n",
       "\n",
       "```"
      ],
      "text/plain": [
       "['mommy',\n",
       " ('Hi Uma',),\n",
       " {'hx-trigger': 'mouseenter', 'hx-get': '/inbox', 'class': 'mom'}]"
      ]
     },
     "execution_count": null,
     "metadata": {},
     "output_type": "execute_result"
    }
   ],
   "source": [
    "Mommy = partial(xt_hx, \"Mommy\")\n",
    "Mommy(\"Hi Uma\", cls='mom', hx_trigger=\"mouseenter\", hx_get=\"/inbox\")"
   ]
  },
  {
   "cell_type": "code",
   "execution_count": null,
   "metadata": {},
   "outputs": [],
   "source": [
    "from fastcore.meta import use_kwargs\n",
    "\n",
    "\n",
    "@use_kwargs(hx_attrs, keep=True)\n",
    "def xt_hx(tag: str, *c, target_id=None, **kwargs):\n",
    "    print(kwargs)\n",
    "    if target_id:\n",
    "        kwargs[\"hx_target\"] = \"#\" + target_id\n",
    "        print(kwargs)\n",
    "    return xt_html(tag, *c, **kwargs)"
   ]
  },
  {
   "cell_type": "code",
   "execution_count": null,
   "metadata": {},
   "outputs": [
    {
     "name": "stdout",
     "output_type": "stream",
     "text": [
      "{'cls': 'dad', 'hx_target': '#UmaTheKid'}\n"
     ]
    },
    {
     "data": {
      "text/markdown": [
       "```xml\n",
       "<daddy hx-target=\"#UmaTheKid\" class=\"dad\">Hi fam</daddy>\n",
       "\n",
       "```"
      ],
      "text/plain": [
       "['daddy', ('Hi fam',), {'hx-target': '#UmaTheKid', 'class': 'dad'}]"
      ]
     },
     "execution_count": null,
     "metadata": {},
     "output_type": "execute_result"
    }
   ],
   "source": [
    "Daddy = partial(xt_hx, \"Daddy\")\n",
    "Daddy(\"Hi fam\", cls=\"dad\", hx_target=\"#UmaTheKid\")"
   ]
  },
  {
   "cell_type": "code",
   "execution_count": null,
   "metadata": {},
   "outputs": [],
   "source": [
    "from fastcore.meta import delegates"
   ]
  },
  {
   "cell_type": "code",
   "execution_count": null,
   "metadata": {},
   "outputs": [],
   "source": [
    "@delegates(xt_hx, keep=True)\n",
    "def Mom(*c, title, description, **kwargs) -> XT:\n",
    "    if title: c = H1(title, 1) + c\n",
    "    if description: c += Paragraph(description)\n",
    "    return Mommy(*c, **kwargs)"
   ]
  },
  {
   "cell_type": "code",
   "execution_count": null,
   "metadata": {},
   "outputs": [
    {
     "ename": "TypeError",
     "evalue": "can only concatenate list (not \"tuple\") to list",
     "output_type": "error",
     "traceback": [
      "\u001b[0;31m---------------------------------------------------------------------------\u001b[0m",
      "\u001b[0;31mTypeError\u001b[0m                                 Traceback (most recent call last)",
      "Cell \u001b[0;32mIn[60], line 1\u001b[0m\n\u001b[0;32m----> 1\u001b[0m \u001b[43mMom\u001b[49m\u001b[43m(\u001b[49m\u001b[38;5;124;43m\"\u001b[39;49m\u001b[38;5;124;43mHi Uma\u001b[39;49m\u001b[38;5;124;43m\"\u001b[39;49m\u001b[43m,\u001b[49m\u001b[43m \u001b[49m\u001b[43mtitle\u001b[49m\u001b[38;5;241;43m=\u001b[39;49m\u001b[38;5;124;43m\"\u001b[39;49m\u001b[38;5;124;43mMother\u001b[39;49m\u001b[38;5;124;43m\"\u001b[39;49m\u001b[43m,\u001b[49m\u001b[43m \u001b[49m\u001b[43mdescription\u001b[49m\u001b[38;5;241;43m=\u001b[39;49m\u001b[38;5;124;43m\"\u001b[39;49m\u001b[38;5;124;43mDirector of Motherhood\u001b[39;49m\u001b[38;5;124;43m\"\u001b[39;49m\u001b[43m,\u001b[49m\u001b[43m \u001b[49m\u001b[38;5;28;43mcls\u001b[39;49m\u001b[38;5;241;43m=\u001b[39;49m\u001b[38;5;124;43m\"\u001b[39;49m\u001b[38;5;124;43mma\u001b[39;49m\u001b[38;5;124;43m\"\u001b[39;49m\u001b[43m,\u001b[49m\u001b[43m \u001b[49m\u001b[43mhx_trigger\u001b[49m\u001b[38;5;241;43m=\u001b[39;49m\u001b[38;5;124;43m\"\u001b[39;49m\u001b[38;5;124;43mmouseenter\u001b[39;49m\u001b[38;5;124;43m\"\u001b[39;49m\u001b[43m,\u001b[49m\u001b[43m \u001b[49m\u001b[43mhx_get\u001b[49m\u001b[38;5;241;43m=\u001b[39;49m\u001b[38;5;124;43m\"\u001b[39;49m\u001b[38;5;124;43m/inbox\u001b[39;49m\u001b[38;5;124;43m\"\u001b[39;49m\u001b[43m)\u001b[49m\n",
      "Cell \u001b[0;32mIn[58], line 3\u001b[0m, in \u001b[0;36mMom\u001b[0;34m(title, description, *c, **kwargs)\u001b[0m\n\u001b[1;32m      1\u001b[0m \u001b[38;5;129m@delegates\u001b[39m(xt_hx, keep\u001b[38;5;241m=\u001b[39m\u001b[38;5;28;01mTrue\u001b[39;00m)\n\u001b[1;32m      2\u001b[0m \u001b[38;5;28;01mdef\u001b[39;00m \u001b[38;5;21mMom\u001b[39m(\u001b[38;5;241m*\u001b[39mc, title, description, \u001b[38;5;241m*\u001b[39m\u001b[38;5;241m*\u001b[39mkwargs) \u001b[38;5;241m-\u001b[39m\u001b[38;5;241m>\u001b[39m XT:\n\u001b[0;32m----> 3\u001b[0m     \u001b[38;5;28;01mif\u001b[39;00m title: c \u001b[38;5;241m=\u001b[39m \u001b[43mH1\u001b[49m\u001b[43m(\u001b[49m\u001b[43mtitle\u001b[49m\u001b[43m,\u001b[49m\u001b[43m \u001b[49m\u001b[38;5;241;43m1\u001b[39;49m\u001b[43m)\u001b[49m\u001b[43m \u001b[49m\u001b[38;5;241;43m+\u001b[39;49m\u001b[43m \u001b[49m\u001b[43mc\u001b[49m\n\u001b[1;32m      4\u001b[0m     \u001b[38;5;28;01mif\u001b[39;00m description: c \u001b[38;5;241m=\u001b[39m Paragraph(description) \u001b[38;5;241m+\u001b[39m c\n\u001b[1;32m      5\u001b[0m     \u001b[38;5;28;01mreturn\u001b[39;00m Mommy(\u001b[38;5;241m*\u001b[39mc, \u001b[38;5;241m*\u001b[39m\u001b[38;5;241m*\u001b[39mkwargs)\n",
      "\u001b[0;31mTypeError\u001b[0m: can only concatenate list (not \"tuple\") to list"
     ]
    }
   ],
   "source": [
    "Mom(\"Hi Uma\", title=\"Mother\", description=\"Director of Motherhood\", cls=\"ma\", hx_trigger=\"mouseenter\", hx_get=\"/inbox\")"
   ]
  },
  {
   "cell_type": "code",
   "execution_count": null,
   "metadata": {},
   "outputs": [],
   "source": [
    "@delegates(xt_hx, keep=True)\n",
    "def Card(*c, header=None, footer=None, **kwargs) -> XT:\n",
    "    \"A PicoCSS Card, implemented as an Article with optional Header and Footer\"\n",
    "    if header:\n",
    "        c = (Header(header),) + c\n",
    "    if footer:\n",
    "        c += (Footer(footer),)\n",
    "    return Article(*c, **kwargs)"
   ]
  },
  {
   "cell_type": "code",
   "execution_count": null,
   "metadata": {},
   "outputs": [
    {
     "data": {
      "text/markdown": [
       "```xml\n",
       "<article hx-trigger=\"mouseenter\" hx-get=\"/inbox\" class=\"ma\">\n",
       "  <header>Mother</header>\n",
       "Hi Uma\n",
       "  <footer>Director of Motherhood</footer>\n",
       "</article>\n",
       "\n",
       "```"
      ],
      "text/plain": [
       "['article',\n",
       " (['header', ('Mother',), {}],\n",
       "  'Hi Uma',\n",
       "  ['footer', ('Director of Motherhood',), {}]),\n",
       " {'hx-trigger': 'mouseenter', 'hx-get': '/inbox', 'class': 'ma'}]"
      ]
     },
     "execution_count": null,
     "metadata": {},
     "output_type": "execute_result"
    }
   ],
   "source": [
    "Card(\"Hi Uma\", header=\"Mother\", footer=\"Director of Motherhood\", cls=\"ma\", hx_trigger=\"mouseenter\", hx_get=\"/inbox\")"
   ]
  },
  {
   "cell_type": "code",
   "execution_count": null,
   "metadata": {},
   "outputs": [],
   "source": []
  }
 ],
 "metadata": {
  "kernelspec": {
   "display_name": "python3",
   "language": "python",
   "name": "python3"
  }
 },
 "nbformat": 4,
 "nbformat_minor": 2
}
